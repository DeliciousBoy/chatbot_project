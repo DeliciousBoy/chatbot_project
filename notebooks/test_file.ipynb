{
 "cells": [
  {
   "cell_type": "code",
   "execution_count": 4,
   "metadata": {},
   "outputs": [
    {
     "name": "stdout",
     "output_type": "stream",
     "text": [
      "\u001b[32m2024-10-10 01:49:42.182\u001b[0m | \u001b[31m\u001b[1mERROR   \u001b[0m | \u001b[36msrc.chatbot.similarity_finder\u001b[0m:\u001b[36mfind_most_similar\u001b[0m:\u001b[36m58\u001b[0m - \u001b[31m\u001b[1mValueError: 'TextSimilarityFinder' object has no attribute 'transform_query' occurred with query: เเดง\u001b[0m\n"
     ]
    },
    {
     "ename": "TypeError",
     "evalue": "'NoneType' object is not subscriptable",
     "output_type": "error",
     "traceback": [
      "\u001b[1;31m---------------------------------------------------------------------------\u001b[0m",
      "\u001b[1;31mTypeError\u001b[0m                                 Traceback (most recent call last)",
      "Cell \u001b[1;32mIn[4], line 22\u001b[0m\n\u001b[0;32m     19\u001b[0m query \u001b[38;5;241m=\u001b[39m \u001b[38;5;124m'\u001b[39m\u001b[38;5;124mเเดง\u001b[39m\u001b[38;5;124m'\u001b[39m\n\u001b[0;32m     20\u001b[0m best_match \u001b[38;5;241m=\u001b[39m similarity\u001b[38;5;241m.\u001b[39mfind_most_similar(query,  df)\n\u001b[1;32m---> 22\u001b[0m \u001b[38;5;28mprint\u001b[39m(\u001b[43mbest_match\u001b[49m\u001b[43m[\u001b[49m\u001b[38;5;124;43m'\u001b[39;49m\u001b[38;5;124;43mcombined_text\u001b[39;49m\u001b[38;5;124;43m'\u001b[39;49m\u001b[43m]\u001b[49m)\n",
      "\u001b[1;31mTypeError\u001b[0m: 'NoneType' object is not subscriptable"
     ]
    }
   ],
   "source": [
    "import pandas as pd\n",
    "from sklearn.feature_extraction.text import TfidfVectorizer\n",
    "\n",
    "from src.config import RAW_DATA_DIR\n",
    "from src.chatbot.text_vectorizer import Embedding\n",
    "from src.chatbot.similarity_finder import TextSimilarityFinder\n",
    "\n",
    "data = RAW_DATA_DIR / \"product_report_1.csv\"\n",
    "df = pd.read_csv(data)\n",
    "df.dropna(inplace=True)\n",
    "df['combined_text'] = df[['Name', 'Price']].astype(str).agg(' '.join, axis=1)\n",
    "  \n",
    "embedding_handler = Embedding()\n",
    "embedding = embedding_handler.vectorize_text_data(df, 'combined_text')\n",
    "\n",
    "vectorizer = TfidfVectorizer()\n",
    "similarity = TextSimilarityFinder(embedding, embedding_handler.vectorizer)\n",
    "\n",
    "query = 'เเดง'\n",
    "best_match = similarity.find_most_similar(query,  df)\n",
    "\n",
    "print(best_match['combined_text'])"
   ]
  },
  {
   "cell_type": "code",
   "execution_count": null,
   "metadata": {},
   "outputs": [],
   "source": [
    "df"
   ]
  },
  {
   "cell_type": "code",
   "execution_count": 40,
   "metadata": {},
   "outputs": [],
   "source": [
    "data = RAW_DATA_DIR / \"product_report_1.csv\"\n",
    "df = pd.read_csv(data)\n",
    "df['combined_text'] = df[['Name', 'ID', 'Price', 'Unit', 'Size', 'Weight']].fillna('').astype(str).agg(' '.join, axis=1)"
   ]
  }
 ],
 "metadata": {
  "kernelspec": {
   "display_name": ".venv",
   "language": "python",
   "name": "python3"
  },
  "language_info": {
   "codemirror_mode": {
    "name": "ipython",
    "version": 3
   },
   "file_extension": ".py",
   "mimetype": "text/x-python",
   "name": "python",
   "nbconvert_exporter": "python",
   "pygments_lexer": "ipython3",
   "version": "3.11.9"
  }
 },
 "nbformat": 4,
 "nbformat_minor": 2
}
